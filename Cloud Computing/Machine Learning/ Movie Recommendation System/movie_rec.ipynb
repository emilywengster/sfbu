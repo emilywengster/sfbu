{
  "nbformat": 4,
  "nbformat_minor": 0,
  "metadata": {
    "colab": {
      "provenance": []
    },
    "kernelspec": {
      "name": "python3",
      "display_name": "Python 3"
    },
    "language_info": {
      "name": "python"
    }
  },
  "cells": [
    {
      "cell_type": "code",
      "execution_count": 1,
      "metadata": {
        "colab": {
          "base_uri": "https://localhost:8080/"
        },
        "id": "avmRvBN-w-z8",
        "outputId": "528d6f78-a03f-413a-adc3-f3285b8c72b2"
      },
      "outputs": [
        {
          "output_type": "stream",
          "name": "stdout",
          "text": [
            "Collecting pyspark\n",
            "  Downloading pyspark-3.5.1.tar.gz (317.0 MB)\n",
            "\u001b[2K     \u001b[90m━━━━━━━━━━━━━━━━━━━━━━━━━━━━━━━━━━━━━━━━\u001b[0m \u001b[32m317.0/317.0 MB\u001b[0m \u001b[31m4.7 MB/s\u001b[0m eta \u001b[36m0:00:00\u001b[0m\n",
            "\u001b[?25h  Preparing metadata (setup.py) ... \u001b[?25l\u001b[?25hdone\n",
            "Requirement already satisfied: py4j==0.10.9.7 in /usr/local/lib/python3.10/dist-packages (from pyspark) (0.10.9.7)\n",
            "Building wheels for collected packages: pyspark\n",
            "  Building wheel for pyspark (setup.py) ... \u001b[?25l\u001b[?25hdone\n",
            "  Created wheel for pyspark: filename=pyspark-3.5.1-py2.py3-none-any.whl size=317488491 sha256=3978e49f4bafee688131a122994c28b96ece1988569057c0ec9890be3be683d1\n",
            "  Stored in directory: /root/.cache/pip/wheels/80/1d/60/2c256ed38dddce2fdd93be545214a63e02fbd8d74fb0b7f3a6\n",
            "Successfully built pyspark\n",
            "Installing collected packages: pyspark\n",
            "Successfully installed pyspark-3.5.1\n"
          ]
        }
      ],
      "source": [
        "!pip install pyspark"
      ]
    },
    {
      "cell_type": "code",
      "source": [
        "from pyspark import SparkContext\n",
        "from pyspark.mllib.recommendation import ALS, MatrixFactorizationModel, Rating\n",
        "\n",
        "# Initialize SparkContext\n",
        "sc = SparkContext(appName=\"PythonCollaborativeFilteringExample\")\n",
        "\n",
        "# Load and parse the data\n",
        "data = sc.textFile(\"/content/u.data\")\n",
        "\n",
        "# Convert data to (UserID, MovieID, rating) format\n",
        "ratings = data.map(lambda l: l.strip().split('\\t'))\\\n",
        "              .map(lambda l: Rating(int(l[0]), int(l[1]), float(l[2])))\n",
        "\n",
        "# Display the first few ratings to verify the data\n",
        "ratings.take(5)"
      ],
      "metadata": {
        "colab": {
          "base_uri": "https://localhost:8080/"
        },
        "id": "rXok_M1sxXB1",
        "outputId": "18b7091d-4efb-4260-c8a2-50b1822d1bac"
      },
      "execution_count": 2,
      "outputs": [
        {
          "output_type": "execute_result",
          "data": {
            "text/plain": [
              "[Rating(user=196, product=242, rating=3.0),\n",
              " Rating(user=186, product=302, rating=3.0),\n",
              " Rating(user=22, product=377, rating=1.0),\n",
              " Rating(user=244, product=51, rating=2.0),\n",
              " Rating(user=166, product=346, rating=1.0)]"
            ]
          },
          "metadata": {},
          "execution_count": 2
        }
      ]
    },
    {
      "cell_type": "code",
      "source": [
        "rank = 10\n",
        "numIterations = 10\n",
        "model = ALS.train(ratings, rank, numIterations)\n",
        "\n",
        "# Evaluate the model on training data\n",
        "testdata = ratings.map(lambda p: (p[0], p[1]))\n",
        "predictions = model.predictAll(testdata).map(lambda r: ((r[0], r[1]), r[2]))\n",
        "\n",
        "# Join input rating ((user, product), rate1) with predicted rating\n",
        "# ((user, product), rate2) to create ((user, product), (rate1, rate2))\n",
        "ratesAndPreds = ratings.map(lambda r: ((r[0], r[1]), r[2])).join(predictions)\n",
        "MSE = ratesAndPreds.map(lambda r: (r[1][0] - r[1][1])**2).mean()\n",
        "print(\"Mean Squared Error = \" + str(MSE))\n",
        "\n",
        "# Save and load model\n",
        "model.save(sc, \"/content/myCollaborativeFilter\")\n",
        "sameModel = MatrixFactorizationModel.load(sc, \"/content/myCollaborativeFilter\")"
      ],
      "metadata": {
        "colab": {
          "base_uri": "https://localhost:8080/"
        },
        "id": "-vQjMc7Txdy8",
        "outputId": "69105fd6-3ca5-4c9d-c68a-8cd492c003f1"
      },
      "execution_count": 3,
      "outputs": [
        {
          "output_type": "stream",
          "name": "stdout",
          "text": [
            "Mean Squared Error = 0.4808234959187335\n"
          ]
        }
      ]
    },
    {
      "cell_type": "code",
      "source": [
        "user_id = 196\n",
        "user_ratings = ratings.filter(lambda r: r[0] == user_id).collect()\n",
        "\n",
        "print(f\"Ratings given by user {user_id}:\")\n",
        "for r in user_ratings:\n",
        "    print(f\"Movie ID: {r.product}, Rating: {r.rating}\")\n",
        "\n",
        "# Generate top 10 movie recommendations for a specific user\n",
        "recommendations = sameModel.recommendProducts(user_id, 10)\n",
        "\n",
        "print(f\"\\nTop 10 recommendations for user {user_id}:\")\n",
        "for r in recommendations:\n",
        "    print(f\"Movie ID: {r.product}, Predicted Rating: {r.rating}\")\n",
        "\"\"\"\n",
        "print(f\"Ratings given by user {user_id}: {user_ratings}\")\n",
        "\n",
        "# Generate top 10 movie recommendations for a specific user\n",
        "recommendations = sameModel.recommendProducts(user_id, 10)\n",
        "print(f\"Top 10 recommendations for user {user_id}: {recommendations}\")\n",
        "\"\"\"\n",
        "\n"
      ],
      "metadata": {
        "colab": {
          "base_uri": "https://localhost:8080/",
          "height": 1000
        },
        "id": "7B9l9ySgxtiK",
        "outputId": "f543975a-cbc1-469f-9279-151247cee353"
      },
      "execution_count": 5,
      "outputs": [
        {
          "output_type": "stream",
          "name": "stdout",
          "text": [
            "Ratings given by user 196:\n",
            "Movie ID: 242, Rating: 3.0\n",
            "Movie ID: 393, Rating: 4.0\n",
            "Movie ID: 381, Rating: 4.0\n",
            "Movie ID: 251, Rating: 3.0\n",
            "Movie ID: 655, Rating: 5.0\n",
            "Movie ID: 67, Rating: 5.0\n",
            "Movie ID: 306, Rating: 4.0\n",
            "Movie ID: 238, Rating: 4.0\n",
            "Movie ID: 663, Rating: 5.0\n",
            "Movie ID: 111, Rating: 4.0\n",
            "Movie ID: 580, Rating: 2.0\n",
            "Movie ID: 25, Rating: 4.0\n",
            "Movie ID: 286, Rating: 5.0\n",
            "Movie ID: 94, Rating: 3.0\n",
            "Movie ID: 692, Rating: 5.0\n",
            "Movie ID: 8, Rating: 5.0\n",
            "Movie ID: 428, Rating: 4.0\n",
            "Movie ID: 1118, Rating: 4.0\n",
            "Movie ID: 70, Rating: 3.0\n",
            "Movie ID: 66, Rating: 3.0\n",
            "Movie ID: 257, Rating: 2.0\n",
            "Movie ID: 108, Rating: 4.0\n",
            "Movie ID: 202, Rating: 3.0\n",
            "Movie ID: 340, Rating: 3.0\n",
            "Movie ID: 287, Rating: 3.0\n",
            "Movie ID: 116, Rating: 3.0\n",
            "Movie ID: 382, Rating: 4.0\n",
            "Movie ID: 285, Rating: 5.0\n",
            "Movie ID: 1241, Rating: 3.0\n",
            "Movie ID: 1007, Rating: 4.0\n",
            "Movie ID: 411, Rating: 4.0\n",
            "Movie ID: 153, Rating: 5.0\n",
            "Movie ID: 13, Rating: 2.0\n",
            "Movie ID: 762, Rating: 3.0\n",
            "Movie ID: 173, Rating: 2.0\n",
            "Movie ID: 1022, Rating: 4.0\n",
            "Movie ID: 845, Rating: 4.0\n",
            "Movie ID: 269, Rating: 3.0\n",
            "Movie ID: 110, Rating: 1.0\n",
            "\n",
            "Top 10 recommendations for user 196:\n",
            "Movie ID: 1643, Predicted Rating: 8.341500792712392\n",
            "Movie ID: 6, Predicted Rating: 8.139425806016602\n",
            "Movie ID: 791, Predicted Rating: 7.915776653215841\n",
            "Movie ID: 1183, Predicted Rating: 7.6964414431744235\n",
            "Movie ID: 904, Predicted Rating: 7.646503783174321\n",
            "Movie ID: 548, Predicted Rating: 7.5874932923877605\n",
            "Movie ID: 959, Predicted Rating: 7.499086236682457\n",
            "Movie ID: 703, Predicted Rating: 7.301922219137116\n",
            "Movie ID: 1100, Predicted Rating: 7.21440748301843\n",
            "Movie ID: 532, Predicted Rating: 7.19649808628942\n"
          ]
        },
        {
          "output_type": "execute_result",
          "data": {
            "text/plain": [
              "'\\nprint(f\"Ratings given by user {user_id}: {user_ratings}\")\\n\\n# Generate top 10 movie recommendations for a specific user\\nrecommendations = sameModel.recommendProducts(user_id, 10)\\nprint(f\"Top 10 recommendations for user {user_id}: {recommendations}\")\\n'"
            ],
            "application/vnd.google.colaboratory.intrinsic+json": {
              "type": "string"
            }
          },
          "metadata": {},
          "execution_count": 5
        }
      ]
    }
  ]
}